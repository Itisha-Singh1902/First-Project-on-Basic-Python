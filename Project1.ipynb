{
 "cells": [
  {
   "cell_type": "markdown",
   "id": "95ee1716",
   "metadata": {},
   "source": [
    "# Project on Basic Python Syntax"
   ]
  },
  {
   "cell_type": "markdown",
   "id": "a830d424",
   "metadata": {},
   "source": [
    "# Mysterious Rooms Game"
   ]
  },
  {
   "cell_type": "code",
   "execution_count": null,
   "id": "06cc6cc4",
   "metadata": {},
   "outputs": [],
   "source": [
    "def chocolate_room():\n",
    "  \n",
    "  print(\"\\nYou are now in a room filled with chocolates!\")\n",
    "  print(\"And there is a door too!\")\n",
    "  print(\"What would you do? (1 or 2)\")\n",
    "  print(\"1). Take some chocolates and go through the door.\")\n",
    "  print(\"2). Just go through the door.\")\n",
    "  \n",
    "\n",
    "  # take input()\n",
    "  answer = input(\">\")\n",
    "  \n",
    "  if answer == \"1\":\n",
    "    # the player is dead, call game_over() function with the \"reason\"\n",
    "    game_over(\"They were poisonous chocolates ! The moment you ate, you died!\")\n",
    "  elif answer == \"2\":\n",
    "    # the player won the game\n",
    "    print(\"\\nNice, you're are not greedy person! Congrats you win the game!\")\n",
    "    # activate play_again() function\n",
    "    play_again()\n",
    "  else:\n",
    "    # call game_over() with \"reason\"\n",
    "    game_over(\"Go and learn how to type a number.\")\n",
    "\n",
    "\n",
    "# gorilla room\n",
    "def gorilla_room():\n",
    "  # give some prompts\n",
    "  # '\\n' is to print the line in a new line\n",
    "  print(\"\\nThere is a gorilla here.\")\n",
    "  print(\"Behind the gorilla is another door.\")\n",
    "  print(\"The gorilla is eating tasty bananas!\")\n",
    "  print(\"What would you do? (1 or 2)\")\n",
    "  print(\"1). Take the bananas.\")\n",
    "  print(\"2). Taunt the gorilla.\")\n",
    "\n",
    "  # take input()\n",
    "  answer = input(\">\")\n",
    "  \n",
    "  if answer == \"1\":\n",
    "    # the player is dead!\n",
    "    game_over(\"The gorilla killed you.\")\n",
    "  elif answer == \"2\":\n",
    "    # lead him to the chocolate_room()\n",
    "    print(\"\\nYour Good time, the gorilla moved from the door. You can go through it now!\")\n",
    "    chocolate_room()\n",
    "  else:\n",
    "    # else call game_over() function with the \"reason\" argument\n",
    "    game_over(\"Don't you know how to type a number?\")\n",
    "\n",
    "\n",
    "# witch room\n",
    "def witch_room():\n",
    "  # some prompts\n",
    "  # '\\n' is to print the line in a new line\n",
    "  print(\"\\nNow you entered the room of a witch!\")\n",
    "  print(\"The witch is sleeping.\\nBehind the witch, there is another door. What would you do? (1 or 2)\")\n",
    "  print(\"1). Go through the door silently.\")\n",
    "  print(\"2). Kill the witch and show your courage!\")\n",
    "\n",
    "  # take input()\n",
    "  answer = input(\">\")\n",
    "\n",
    "  if answer == \"1\":\n",
    "    # lead him to the chocolate_room()\n",
    "    chocolate_room()\n",
    "  elif answer == \"2\":\n",
    "    # the player is dead, call game_over() with \"reason\"\n",
    "    game_over(\"The witch was hungry, he/it ate you.\")\n",
    "  else:\n",
    "    # game_over() with \"reason\"\n",
    "    game_over(\"Go and learn how to type a number.\")\n",
    "\n",
    "\n",
    "# function to ask play again or not\n",
    "def play_again():\n",
    "  print(\"\\nDo you want to play again? (y or n)\")\n",
    "  \n",
    "  # convert the player's input to lower_case\n",
    "  answer = input(\">\").lower()\n",
    "\n",
    "  if \"y\" in answer:\n",
    "    # if player typed \"yes\" or \"y\" start the game from the beginning\n",
    "    start()\n",
    "  else:\n",
    "    # if user types anything besides \"yes\" or \"y\", exit() the program\n",
    "    exit()\n",
    "\n",
    "\n",
    "# game_over function accepts an argument called \"reason\"\n",
    "def game_over(reason):\n",
    "  # print the \"reason\" in a new line (\\n)\n",
    "  print(\"\\n\" + reason)\n",
    "  print(\"Game Over!\")\n",
    "  # ask player to play again or not by activating play_again() function\n",
    "  play_again()\n",
    "\n",
    "\n",
    "def start():\n",
    "  # give some prompts.\n",
    "  print(\"\\nYou are standing in a dark room.\")\n",
    "  print(\"There is a door to your left and right, which one do you take? (l or r)\")\n",
    "  \n",
    "  # convert the player's input() to lower_case\n",
    "  answer = input(\">\").lower()\n",
    "\n",
    "  if \"l\" in answer:\n",
    "    # if player typed \"left\" or \"l\" lead him to chocolate_room()\n",
    "    chocolate_room()\n",
    "  elif \"r\" in answer:\n",
    "    # else if player typed \"right\" or \"r\" lead him to witch_room()\n",
    "    witch_room()\n",
    "  else:.\n",
    "    # else call game_over() function with the \"reason\" argument\n",
    "    game_over(\"Don't you know how to type something properly?\")\n",
    "\n",
    "\n",
    "# start the game\n",
    "start()"
   ]
  },
  {
   "cell_type": "markdown",
   "id": "5707b168",
   "metadata": {},
   "source": [
    "**Data Type**"
   ]
  },
  {
   "cell_type": "markdown",
   "id": "09336484",
   "metadata": {},
   "source": [
    "**Numbers**"
   ]
  },
  {
   "cell_type": "code",
   "execution_count": 127,
   "id": "80d34a27",
   "metadata": {},
   "outputs": [
    {
     "data": {
      "text/plain": [
       "64"
      ]
     },
     "execution_count": 127,
     "metadata": {},
     "output_type": "execute_result"
    }
   ],
   "source": [
    "2**6"
   ]
  },
  {
   "cell_type": "code",
   "execution_count": 2,
   "id": "5edff564",
   "metadata": {},
   "outputs": [
    {
     "data": {
      "text/plain": [
       "0.5"
      ]
     },
     "execution_count": 2,
     "metadata": {},
     "output_type": "execute_result"
    }
   ],
   "source": [
    "1.0/2"
   ]
  },
  {
   "cell_type": "code",
   "execution_count": 4,
   "id": "5f8f7bfa",
   "metadata": {},
   "outputs": [
    {
     "data": {
      "text/plain": [
       "22"
      ]
     },
     "execution_count": 4,
     "metadata": {},
     "output_type": "execute_result"
    }
   ],
   "source": [
    "2+3*5+5"
   ]
  },
  {
   "cell_type": "code",
   "execution_count": 5,
   "id": "4fbb906e",
   "metadata": {},
   "outputs": [
    {
     "data": {
      "text/plain": [
       "1"
      ]
     },
     "execution_count": 5,
     "metadata": {},
     "output_type": "execute_result"
    }
   ],
   "source": [
    "5%2"
   ]
  },
  {
   "cell_type": "markdown",
   "id": "ace1d3c6",
   "metadata": {},
   "source": [
    "**Variable Assignment**"
   ]
  },
  {
   "cell_type": "code",
   "execution_count": 9,
   "id": "092d1681",
   "metadata": {},
   "outputs": [],
   "source": [
    "x=2\n",
    "y=3"
   ]
  },
  {
   "cell_type": "code",
   "execution_count": 10,
   "id": "0ce9a2ae",
   "metadata": {},
   "outputs": [
    {
     "data": {
      "text/plain": [
       "5"
      ]
     },
     "execution_count": 10,
     "metadata": {},
     "output_type": "execute_result"
    }
   ],
   "source": [
    "x+y"
   ]
  },
  {
   "cell_type": "code",
   "execution_count": 11,
   "id": "510124ea",
   "metadata": {},
   "outputs": [],
   "source": [
    "name_of_var=12"
   ]
  },
  {
   "cell_type": "markdown",
   "id": "b555047c",
   "metadata": {},
   "source": [
    "**Strings**"
   ]
  },
  {
   "cell_type": "code",
   "execution_count": 14,
   "id": "ab3d2e35",
   "metadata": {},
   "outputs": [
    {
     "data": {
      "text/plain": [
       "'I can do it'"
      ]
     },
     "execution_count": 14,
     "metadata": {},
     "output_type": "execute_result"
    }
   ],
   "source": [
    "\"I can do it\""
   ]
  },
  {
   "cell_type": "code",
   "execution_count": 15,
   "id": "15291012",
   "metadata": {},
   "outputs": [
    {
     "data": {
      "text/plain": [
       "'this is a sentence'"
      ]
     },
     "execution_count": 15,
     "metadata": {},
     "output_type": "execute_result"
    }
   ],
   "source": [
    "\"this is a sentence\""
   ]
  },
  {
   "cell_type": "markdown",
   "id": "0f553747",
   "metadata": {},
   "source": [
    "**Printing**"
   ]
  },
  {
   "cell_type": "code",
   "execution_count": 18,
   "id": "eb3f1067",
   "metadata": {},
   "outputs": [],
   "source": [
    "x=\"hi\""
   ]
  },
  {
   "cell_type": "code",
   "execution_count": 19,
   "id": "a797af9a",
   "metadata": {},
   "outputs": [
    {
     "data": {
      "text/plain": [
       "'hi'"
      ]
     },
     "execution_count": 19,
     "metadata": {},
     "output_type": "execute_result"
    }
   ],
   "source": [
    "x"
   ]
  },
  {
   "cell_type": "code",
   "execution_count": null,
   "id": "21a34665",
   "metadata": {},
   "outputs": [],
   "source": []
  },
  {
   "cell_type": "code",
   "execution_count": 13,
   "id": "79360d36",
   "metadata": {},
   "outputs": [
    {
     "data": {
      "text/plain": [
       "'My number is 12 and my name is harshit'"
      ]
     },
     "execution_count": 13,
     "metadata": {},
     "output_type": "execute_result"
    }
   ],
   "source": [
    "num=12\n",
    "name='harshit'\n",
    "'My number is {} and my name is {}'.format(num,name)"
   ]
  },
  {
   "cell_type": "code",
   "execution_count": 14,
   "id": "c4817695",
   "metadata": {},
   "outputs": [
    {
     "name": "stdout",
     "output_type": "stream",
     "text": [
      "My number is 12 and my name is harshit, more 12\n"
     ]
    }
   ],
   "source": [
    "print('My number is {one} and my name is {two}, more {one}'.format(one=num, two=name)) "
   ]
  },
  {
   "cell_type": "code",
   "execution_count": 16,
   "id": "f059310e",
   "metadata": {},
   "outputs": [],
   "source": [
    "p='hemlo'"
   ]
  },
  {
   "cell_type": "code",
   "execution_count": 17,
   "id": "ebbb388f",
   "metadata": {},
   "outputs": [
    {
     "data": {
      "text/plain": [
       "'h'"
      ]
     },
     "execution_count": 17,
     "metadata": {},
     "output_type": "execute_result"
    }
   ],
   "source": [
    "p[0]"
   ]
  },
  {
   "cell_type": "code",
   "execution_count": 18,
   "id": "2f2c477d",
   "metadata": {},
   "outputs": [
    {
     "data": {
      "text/plain": [
       "'o'"
      ]
     },
     "execution_count": 18,
     "metadata": {},
     "output_type": "execute_result"
    }
   ],
   "source": [
    "p[4]"
   ]
  },
  {
   "cell_type": "code",
   "execution_count": 19,
   "id": "08565762",
   "metadata": {},
   "outputs": [],
   "source": [
    "S='CONATUS'"
   ]
  },
  {
   "cell_type": "code",
   "execution_count": 20,
   "id": "1d58121d",
   "metadata": {},
   "outputs": [
    {
     "data": {
      "text/plain": [
       "'CONATUS'"
      ]
     },
     "execution_count": 20,
     "metadata": {},
     "output_type": "execute_result"
    }
   ],
   "source": [
    "S[0:]"
   ]
  },
  {
   "cell_type": "code",
   "execution_count": 21,
   "id": "c517ad55",
   "metadata": {},
   "outputs": [
    {
     "data": {
      "text/plain": [
       "'CON'"
      ]
     },
     "execution_count": 21,
     "metadata": {},
     "output_type": "execute_result"
    }
   ],
   "source": [
    "S[:3]"
   ]
  },
  {
   "cell_type": "code",
   "execution_count": 22,
   "id": "a4141fdc",
   "metadata": {},
   "outputs": [
    {
     "data": {
      "text/plain": [
       "'ATU'"
      ]
     },
     "execution_count": 22,
     "metadata": {},
     "output_type": "execute_result"
    }
   ],
   "source": [
    "S[3:6]"
   ]
  },
  {
   "cell_type": "markdown",
   "id": "d78f8f97",
   "metadata": {},
   "source": [
    "**Lists**"
   ]
  },
  {
   "cell_type": "code",
   "execution_count": 45,
   "id": "496724a9",
   "metadata": {},
   "outputs": [
    {
     "data": {
      "text/plain": [
       "['c', 'o', 'n', 'a', 't', 'u', 's']"
      ]
     },
     "execution_count": 45,
     "metadata": {},
     "output_type": "execute_result"
    }
   ],
   "source": [
    "my_list=['c','o','n','a','t','u']\n",
    "my_list.append('s')    #To add a element at the end of he list\n",
    "my_list"
   ]
  },
  {
   "cell_type": "code",
   "execution_count": 46,
   "id": "1ed74e64",
   "metadata": {},
   "outputs": [
    {
     "data": {
      "text/plain": [
       "'c'"
      ]
     },
     "execution_count": 46,
     "metadata": {},
     "output_type": "execute_result"
    }
   ],
   "source": [
    "my_list[0]"
   ]
  },
  {
   "cell_type": "code",
   "execution_count": 47,
   "id": "0283c160",
   "metadata": {},
   "outputs": [
    {
     "data": {
      "text/plain": [
       "['o', 'n']"
      ]
     },
     "execution_count": 47,
     "metadata": {},
     "output_type": "execute_result"
    }
   ],
   "source": [
    "my_list[1:3]"
   ]
  },
  {
   "cell_type": "code",
   "execution_count": 62,
   "id": "dc2766af",
   "metadata": {},
   "outputs": [
    {
     "data": {
      "text/plain": [
       "['ITISHA', 'o', 'n', 'a', 't', 'u', 's']"
      ]
     },
     "execution_count": 62,
     "metadata": {},
     "output_type": "execute_result"
    }
   ],
   "source": [
    "my_list[0]='ITISHA'\n",
    "my_list"
   ]
  },
  {
   "cell_type": "code",
   "execution_count": 58,
   "id": "1d7ef475",
   "metadata": {},
   "outputs": [],
   "source": [
    "nest=[1,2,[3,4]]"
   ]
  },
  {
   "cell_type": "code",
   "execution_count": 59,
   "id": "37bcb2a2",
   "metadata": {},
   "outputs": [
    {
     "data": {
      "text/plain": [
       "[1, 2, [3, 4]]"
      ]
     },
     "execution_count": 59,
     "metadata": {},
     "output_type": "execute_result"
    }
   ],
   "source": [
    "nest"
   ]
  },
  {
   "cell_type": "code",
   "execution_count": 60,
   "id": "9d228b0f",
   "metadata": {},
   "outputs": [
    {
     "data": {
      "text/plain": [
       "4"
      ]
     },
     "execution_count": 60,
     "metadata": {},
     "output_type": "execute_result"
    }
   ],
   "source": [
    "nest[2][1]"
   ]
  },
  {
   "cell_type": "code",
   "execution_count": 63,
   "id": "d83b15b5",
   "metadata": {},
   "outputs": [],
   "source": [
    "nest=[1,2,3,[4,5,['conatus']]]"
   ]
  },
  {
   "cell_type": "markdown",
   "id": "62c2ad95",
   "metadata": {},
   "source": []
  },
  {
   "cell_type": "code",
   "execution_count": 64,
   "id": "8adbf0ef",
   "metadata": {},
   "outputs": [
    {
     "data": {
      "text/plain": [
       "['conatus']"
      ]
     },
     "execution_count": 64,
     "metadata": {},
     "output_type": "execute_result"
    }
   ],
   "source": [
    "nest[3][2]"
   ]
  },
  {
   "cell_type": "code",
   "execution_count": 65,
   "id": "9d66db8f",
   "metadata": {},
   "outputs": [
    {
     "name": "stdout",
     "output_type": "stream",
     "text": [
      "conatus\n"
     ]
    }
   ],
   "source": [
    "print(nest[3][2][0])"
   ]
  },
  {
   "cell_type": "markdown",
   "id": "38c7a60d",
   "metadata": {},
   "source": [
    "**Dictionaries**"
   ]
  },
  {
   "cell_type": "code",
   "execution_count": 66,
   "id": "036aa20f",
   "metadata": {},
   "outputs": [],
   "source": [
    "d={'answer 1':'value','answer 2': 123}"
   ]
  },
  {
   "cell_type": "code",
   "execution_count": 67,
   "id": "00ab3aa1",
   "metadata": {},
   "outputs": [
    {
     "ename": "KeyError",
     "evalue": "0",
     "output_type": "error",
     "traceback": [
      "\u001b[1;31m---------------------------------------------------------------------------\u001b[0m",
      "\u001b[1;31mKeyError\u001b[0m                                  Traceback (most recent call last)",
      "\u001b[1;32m<ipython-input-67-123a9cc6df61>\u001b[0m in \u001b[0;36m<module>\u001b[1;34m\u001b[0m\n\u001b[1;32m----> 1\u001b[1;33m \u001b[0md\u001b[0m\u001b[1;33m[\u001b[0m\u001b[1;36m0\u001b[0m\u001b[1;33m]\u001b[0m\u001b[1;33m\u001b[0m\u001b[1;33m\u001b[0m\u001b[0m\n\u001b[0m",
      "\u001b[1;31mKeyError\u001b[0m: 0"
     ]
    }
   ],
   "source": [
    "d[0]"
   ]
  },
  {
   "cell_type": "code",
   "execution_count": 68,
   "id": "36ce9f7c",
   "metadata": {},
   "outputs": [
    {
     "data": {
      "text/plain": [
       "'value'"
      ]
     },
     "execution_count": 68,
     "metadata": {},
     "output_type": "execute_result"
    }
   ],
   "source": [
    "d['answer 1']"
   ]
  },
  {
   "cell_type": "code",
   "execution_count": 69,
   "id": "cdae1333",
   "metadata": {},
   "outputs": [
    {
     "data": {
      "text/plain": [
       "123"
      ]
     },
     "execution_count": 69,
     "metadata": {},
     "output_type": "execute_result"
    }
   ],
   "source": [
    "d['answer 2']"
   ]
  },
  {
   "cell_type": "code",
   "execution_count": 70,
   "id": "c031020d",
   "metadata": {},
   "outputs": [],
   "source": [
    "d={'answer 1':[1,2,3]}"
   ]
  },
  {
   "cell_type": "code",
   "execution_count": 72,
   "id": "92a4874a",
   "metadata": {},
   "outputs": [
    {
     "data": {
      "text/plain": [
       "[1, 2, 3]"
      ]
     },
     "execution_count": 72,
     "metadata": {},
     "output_type": "execute_result"
    }
   ],
   "source": [
    "d['answer 1']"
   ]
  },
  {
   "cell_type": "code",
   "execution_count": 74,
   "id": "0e5355d1",
   "metadata": {},
   "outputs": [
    {
     "data": {
      "text/plain": [
       "2"
      ]
     },
     "execution_count": 74,
     "metadata": {},
     "output_type": "execute_result"
    }
   ],
   "source": [
    "d['answer 1'][1]"
   ]
  },
  {
   "cell_type": "code",
   "execution_count": 75,
   "id": "67a075ef",
   "metadata": {},
   "outputs": [],
   "source": [
    "my_list=d['answer 1']"
   ]
  },
  {
   "cell_type": "code",
   "execution_count": 76,
   "id": "74f9713a",
   "metadata": {},
   "outputs": [
    {
     "data": {
      "text/plain": [
       "1"
      ]
     },
     "execution_count": 76,
     "metadata": {},
     "output_type": "execute_result"
    }
   ],
   "source": [
    "my_list[0]"
   ]
  },
  {
   "cell_type": "code",
   "execution_count": 77,
   "id": "9ff21f5b",
   "metadata": {},
   "outputs": [
    {
     "data": {
      "text/plain": [
       "1"
      ]
     },
     "execution_count": 77,
     "metadata": {},
     "output_type": "execute_result"
    }
   ],
   "source": [
    "d['answer 1'][0]"
   ]
  },
  {
   "cell_type": "code",
   "execution_count": 79,
   "id": "9528aaef",
   "metadata": {},
   "outputs": [],
   "source": [
    "d={'answer 1':{'innerkey':[1,2,3]}}"
   ]
  },
  {
   "cell_type": "code",
   "execution_count": 84,
   "id": "4a4b0cae",
   "metadata": {},
   "outputs": [
    {
     "data": {
      "text/plain": [
       "2"
      ]
     },
     "execution_count": 84,
     "metadata": {},
     "output_type": "execute_result"
    }
   ],
   "source": [
    "\n",
    "d['answer 1']['innerkey'][1]"
   ]
  },
  {
   "cell_type": "markdown",
   "id": "f5658ef5",
   "metadata": {},
   "source": [
    "**Tuples**"
   ]
  },
  {
   "cell_type": "code",
   "execution_count": 86,
   "id": "d62c3a79",
   "metadata": {},
   "outputs": [
    {
     "data": {
      "text/plain": [
       "1"
      ]
     },
     "execution_count": 86,
     "metadata": {},
     "output_type": "execute_result"
    }
   ],
   "source": [
    "t=(1,2,3)\n",
    "t[0]"
   ]
  },
  {
   "cell_type": "code",
   "execution_count": 97,
   "id": "5542f297",
   "metadata": {},
   "outputs": [],
   "source": [
    "my_list=[1,2,3]\n",
    "my_list[0]='conatus'"
   ]
  },
  {
   "cell_type": "code",
   "execution_count": 98,
   "id": "b0fa79b3",
   "metadata": {},
   "outputs": [
    {
     "data": {
      "text/plain": [
       "['conatus', 2, 3]"
      ]
     },
     "execution_count": 98,
     "metadata": {},
     "output_type": "execute_result"
    }
   ],
   "source": [
    "my_list"
   ]
  },
  {
   "cell_type": "code",
   "execution_count": 99,
   "id": "dc6051f8",
   "metadata": {},
   "outputs": [
    {
     "ename": "TypeError",
     "evalue": "'tuple' object does not support item assignment",
     "output_type": "error",
     "traceback": [
      "\u001b[1;31m---------------------------------------------------------------------------\u001b[0m",
      "\u001b[1;31mTypeError\u001b[0m                                 Traceback (most recent call last)",
      "\u001b[1;32m<ipython-input-99-204794779e17>\u001b[0m in \u001b[0;36m<module>\u001b[1;34m\u001b[0m\n\u001b[1;32m----> 1\u001b[1;33m \u001b[0mt\u001b[0m\u001b[1;33m[\u001b[0m\u001b[1;36m0\u001b[0m\u001b[1;33m]\u001b[0m\u001b[1;33m=\u001b[0m\u001b[1;34m'conatus'\u001b[0m\u001b[1;33m\u001b[0m\u001b[1;33m\u001b[0m\u001b[0m\n\u001b[0m",
      "\u001b[1;31mTypeError\u001b[0m: 'tuple' object does not support item assignment"
     ]
    }
   ],
   "source": [
    "t[0]='conatus'   #we can change elements inside the list but not inside the tupple"
   ]
  },
  {
   "cell_type": "markdown",
   "id": "1547e2c5",
   "metadata": {},
   "source": [
    "**Sets**"
   ]
  },
  {
   "cell_type": "code",
   "execution_count": 101,
   "id": "6ca41580",
   "metadata": {},
   "outputs": [
    {
     "data": {
      "text/plain": [
       "{1, 2, 3}"
      ]
     },
     "execution_count": 101,
     "metadata": {},
     "output_type": "execute_result"
    }
   ],
   "source": [
    "{1,2,3}"
   ]
  },
  {
   "cell_type": "code",
   "execution_count": 102,
   "id": "1f670347",
   "metadata": {},
   "outputs": [
    {
     "data": {
      "text/plain": [
       "{1, 2, 3}"
      ]
     },
     "execution_count": 102,
     "metadata": {},
     "output_type": "execute_result"
    }
   ],
   "source": [
    "{1,1,1,2,2,3,3,3,3}  #set is a collection of unique elements"
   ]
  },
  {
   "cell_type": "code",
   "execution_count": 103,
   "id": "048fa98b",
   "metadata": {},
   "outputs": [],
   "source": [
    "s={1,2,3}"
   ]
  },
  {
   "cell_type": "code",
   "execution_count": 104,
   "id": "98d3304f",
   "metadata": {},
   "outputs": [],
   "source": [
    "s.add(5)"
   ]
  },
  {
   "cell_type": "code",
   "execution_count": 105,
   "id": "f437d120",
   "metadata": {},
   "outputs": [
    {
     "data": {
      "text/plain": [
       "{1, 2, 3, 5}"
      ]
     },
     "execution_count": 105,
     "metadata": {},
     "output_type": "execute_result"
    }
   ],
   "source": [
    "s"
   ]
  },
  {
   "cell_type": "code",
   "execution_count": 106,
   "id": "84ed5fe6",
   "metadata": {},
   "outputs": [],
   "source": [
    "s.add(5)  #will return same output"
   ]
  },
  {
   "cell_type": "code",
   "execution_count": 107,
   "id": "068c47cb",
   "metadata": {},
   "outputs": [
    {
     "data": {
      "text/plain": [
       "{1, 2, 3, 5}"
      ]
     },
     "execution_count": 107,
     "metadata": {},
     "output_type": "execute_result"
    }
   ],
   "source": [
    "s"
   ]
  },
  {
   "cell_type": "markdown",
   "id": "54624d4a",
   "metadata": {},
   "source": [
    "**Comparison and Boolean Operators**"
   ]
  },
  {
   "cell_type": "code",
   "execution_count": 108,
   "id": "609f267d",
   "metadata": {},
   "outputs": [
    {
     "data": {
      "text/plain": [
       "True"
      ]
     },
     "execution_count": 108,
     "metadata": {},
     "output_type": "execute_result"
    }
   ],
   "source": [
    "1<2"
   ]
  },
  {
   "cell_type": "code",
   "execution_count": 109,
   "id": "b9998e7c",
   "metadata": {},
   "outputs": [
    {
     "data": {
      "text/plain": [
       "False"
      ]
     },
     "execution_count": 109,
     "metadata": {},
     "output_type": "execute_result"
    }
   ],
   "source": [
    "1==2"
   ]
  },
  {
   "cell_type": "code",
   "execution_count": 111,
   "id": "c494e8d3",
   "metadata": {},
   "outputs": [
    {
     "data": {
      "text/plain": [
       "True"
      ]
     },
     "execution_count": 111,
     "metadata": {},
     "output_type": "execute_result"
    }
   ],
   "source": [
    "'hemlo'!='hello'"
   ]
  },
  {
   "cell_type": "markdown",
   "id": "1232e32b",
   "metadata": {},
   "source": [
    "**Logic Operators**"
   ]
  },
  {
   "cell_type": "code",
   "execution_count": 112,
   "id": "e2165d57",
   "metadata": {},
   "outputs": [
    {
     "data": {
      "text/plain": [
       "True"
      ]
     },
     "execution_count": 112,
     "metadata": {},
     "output_type": "execute_result"
    }
   ],
   "source": [
    "1<2 and 2<3"
   ]
  },
  {
   "cell_type": "code",
   "execution_count": 113,
   "id": "3a5209bb",
   "metadata": {},
   "outputs": [
    {
     "data": {
      "text/plain": [
       "False"
      ]
     },
     "execution_count": 113,
     "metadata": {},
     "output_type": "execute_result"
    }
   ],
   "source": [
    "1<2 and 2>3"
   ]
  },
  {
   "cell_type": "markdown",
   "id": "07554c2c",
   "metadata": {},
   "source": [
    "**if,elif,else Statements**"
   ]
  },
  {
   "cell_type": "code",
   "execution_count": 115,
   "id": "55463368",
   "metadata": {},
   "outputs": [
    {
     "name": "stdout",
     "output_type": "stream",
     "text": [
      "conatus!\n"
     ]
    }
   ],
   "source": [
    "if 1<2:\n",
    "    print('conatus!')"
   ]
  },
  {
   "cell_type": "code",
   "execution_count": 8,
   "id": "177bd76e",
   "metadata": {
    "scrolled": true
   },
   "outputs": [
    {
     "ename": "SyntaxError",
     "evalue": "invalid syntax (<ipython-input-8-179abcab18b1>, line 3)",
     "output_type": "error",
     "traceback": [
      "\u001b[1;36m  File \u001b[1;32m\"<ipython-input-8-179abcab18b1>\"\u001b[1;36m, line \u001b[1;32m3\u001b[0m\n\u001b[1;33m    elif 3 == 3:\u001b[0m\n\u001b[1;37m    ^\u001b[0m\n\u001b[1;31mSyntaxError\u001b[0m\u001b[1;31m:\u001b[0m invalid syntax\n"
     ]
    }
   ],
   "source": [
    "if 1 == 2:\n",
    "    print('first')\n",
    "    elif 3 == 3:\n",
    "    print('second')\n",
    "    else :\n",
    "        print('last')\n",
    "    "
   ]
  },
  {
   "cell_type": "markdown",
   "id": "aac109ff",
   "metadata": {},
   "source": [
    "**for loop**"
   ]
  },
  {
   "cell_type": "code",
   "execution_count": 131,
   "id": "cf8ee247",
   "metadata": {},
   "outputs": [],
   "source": [
    "seq=[1,2,3,4,5]"
   ]
  },
  {
   "cell_type": "code",
   "execution_count": 135,
   "id": "68b11475",
   "metadata": {},
   "outputs": [
    {
     "name": "stdout",
     "output_type": "stream",
     "text": [
      "1\n",
      "2\n",
      "3\n",
      "4\n",
      "5\n"
     ]
    }
   ],
   "source": [
    "for itisha in seq:\n",
    "    print (itisha)"
   ]
  },
  {
   "cell_type": "code",
   "execution_count": 5,
   "id": "b35adfe5",
   "metadata": {},
   "outputs": [
    {
     "name": "stdout",
     "output_type": "stream",
     "text": [
      "hello\n",
      "hello\n",
      "hello\n",
      "hello\n",
      "hello\n"
     ]
    }
   ],
   "source": [
    "seq=[1,2,3,4,5]\n",
    "for num in seq:\n",
    "    print('hello')"
   ]
  },
  {
   "cell_type": "code",
   "execution_count": 6,
   "id": "b62a0c6f",
   "metadata": {},
   "outputs": [
    {
     "name": "stdout",
     "output_type": "stream",
     "text": [
      "1\n",
      "2\n",
      "3\n",
      "4\n",
      "5\n"
     ]
    }
   ],
   "source": [
    "seq=[1,2,3,4,5]\n",
    "for x in seq:\n",
    "    print(x)"
   ]
  },
  {
   "cell_type": "code",
   "execution_count": 9,
   "id": "cbc8cd6f",
   "metadata": {},
   "outputs": [
    {
     "name": "stdout",
     "output_type": "stream",
     "text": [
      "0\n",
      "1\n",
      "2\n",
      "3\n",
      "4\n"
     ]
    }
   ],
   "source": [
    "for x in range(0,5):\n",
    "    print(x)"
   ]
  },
  {
   "cell_type": "markdown",
   "id": "b47d841e",
   "metadata": {},
   "source": [
    "**while loop**"
   ]
  },
  {
   "cell_type": "code",
   "execution_count": 1,
   "id": "bab95749",
   "metadata": {},
   "outputs": [
    {
     "name": "stdout",
     "output_type": "stream",
     "text": [
      "i is: 1\n",
      "i is: 2\n",
      "i is: 3\n",
      "i is: 4\n"
     ]
    }
   ],
   "source": [
    "i=1\n",
    "while i<5:\n",
    "    print('i is: {}'.format(i))\n",
    "    i=i+1"
   ]
  },
  {
   "cell_type": "markdown",
   "id": "b47c3153",
   "metadata": {},
   "source": [
    "**List Comprehension**"
   ]
  },
  {
   "cell_type": "code",
   "execution_count": 10,
   "id": "9853bf01",
   "metadata": {},
   "outputs": [
    {
     "data": {
      "text/plain": [
       "[0, 1, 2, 3, 4, 5, 6, 7, 8, 9]"
      ]
     },
     "execution_count": 10,
     "metadata": {},
     "output_type": "execute_result"
    }
   ],
   "source": [
    "list(range(10))"
   ]
  },
  {
   "cell_type": "code",
   "execution_count": 12,
   "id": "21b0cf51",
   "metadata": {},
   "outputs": [],
   "source": [
    "x=[1,2,3,4]"
   ]
  },
  {
   "cell_type": "code",
   "execution_count": 17,
   "id": "f8314d29",
   "metadata": {},
   "outputs": [
    {
     "name": "stdout",
     "output_type": "stream",
     "text": [
      "[1]\n",
      "[1, 4]\n",
      "[1, 4, 9]\n",
      "[1, 4, 9, 16]\n"
     ]
    }
   ],
   "source": [
    "out=[]\n",
    "for num in x:\n",
    "    out.append(num**2)\n",
    "    print(out)"
   ]
  },
  {
   "cell_type": "code",
   "execution_count": 18,
   "id": "cd85f545",
   "metadata": {},
   "outputs": [
    {
     "data": {
      "text/plain": [
       "[1, 4, 9, 16]"
      ]
     },
     "execution_count": 18,
     "metadata": {},
     "output_type": "execute_result"
    }
   ],
   "source": [
    "[num**2 for num in x]"
   ]
  },
  {
   "cell_type": "markdown",
   "id": "c2e9aa3a",
   "metadata": {},
   "source": [
    "**Functions**"
   ]
  },
  {
   "cell_type": "code",
   "execution_count": 20,
   "id": "0ff1856e",
   "metadata": {},
   "outputs": [],
   "source": [
    "def my_func (name):\n",
    "    print('Hello' + name)"
   ]
  },
  {
   "cell_type": "code",
   "execution_count": 23,
   "id": "47e4a682",
   "metadata": {},
   "outputs": [
    {
     "name": "stdout",
     "output_type": "stream",
     "text": [
      "HelloItisha\n"
     ]
    }
   ],
   "source": [
    "my_func ('Itisha')"
   ]
  },
  {
   "cell_type": "code",
   "execution_count": 25,
   "id": "880b30ab",
   "metadata": {},
   "outputs": [],
   "source": [
    "def my_func( hii ):\n",
    "    print( hii )\n",
    "  "
   ]
  },
  {
   "cell_type": "code",
   "execution_count": 26,
   "id": "c75c998d",
   "metadata": {},
   "outputs": [
    {
     "name": "stdout",
     "output_type": "stream",
     "text": [
      "hue hue\n"
     ]
    }
   ],
   "source": [
    "my_func ('hue hue')"
   ]
  },
  {
   "cell_type": "code",
   "execution_count": 34,
   "id": "cedeb310",
   "metadata": {},
   "outputs": [],
   "source": [
    "def my_func(name ='Default Name'):\n",
    "    print('Hello'+ name)"
   ]
  },
  {
   "cell_type": "code",
   "execution_count": 37,
   "id": "d89f6521",
   "metadata": {},
   "outputs": [
    {
     "name": "stdout",
     "output_type": "stream",
     "text": [
      "Hello  Default Name\n"
     ]
    }
   ],
   "source": [
    "my_func()"
   ]
  },
  {
   "cell_type": "code",
   "execution_count": 38,
   "id": "3f186ea8",
   "metadata": {},
   "outputs": [],
   "source": [
    "def square(num):\n",
    "    return num**2"
   ]
  },
  {
   "cell_type": "code",
   "execution_count": 39,
   "id": "c925a914",
   "metadata": {},
   "outputs": [],
   "source": [
    "output= square(2)"
   ]
  },
  {
   "cell_type": "code",
   "execution_count": 40,
   "id": "c764c640",
   "metadata": {},
   "outputs": [
    {
     "data": {
      "text/plain": [
       "4"
      ]
     },
     "execution_count": 40,
     "metadata": {},
     "output_type": "execute_result"
    }
   ],
   "source": [
    "output"
   ]
  },
  {
   "cell_type": "code",
   "execution_count": 41,
   "id": "c1563b15",
   "metadata": {},
   "outputs": [],
   "source": [
    "def square(num):\n",
    "    \"\"\"\"\n",
    "    this is a docstring    \n",
    "    can go multiple lines\n",
    "    this function squares a number\n",
    "    \"\"\" #no effect of this on output\n",
    "    return num**2\n",
    "    "
   ]
  },
  {
   "cell_type": "code",
   "execution_count": 42,
   "id": "99dcd6ec",
   "metadata": {},
   "outputs": [],
   "source": [
    "output=square(2)"
   ]
  },
  {
   "cell_type": "code",
   "execution_count": 43,
   "id": "ec458e54",
   "metadata": {},
   "outputs": [
    {
     "data": {
      "text/plain": [
       "4"
      ]
     },
     "execution_count": 43,
     "metadata": {},
     "output_type": "execute_result"
    }
   ],
   "source": [
    "output"
   ]
  },
  {
   "cell_type": "code",
   "execution_count": 48,
   "id": "6c2cb9b6",
   "metadata": {},
   "outputs": [],
   "source": [
    "def times2(var): #Def\n",
    "    return var*2"
   ]
  },
  {
   "cell_type": "code",
   "execution_count": 49,
   "id": "732bc261",
   "metadata": {},
   "outputs": [
    {
     "data": {
      "text/plain": [
       "10"
      ]
     },
     "execution_count": 49,
     "metadata": {},
     "output_type": "execute_result"
    }
   ],
   "source": [
    "times2(5) #map is a built in function in python that allows you to save the step"
   ]
  },
  {
   "cell_type": "markdown",
   "id": "3a7ebfa1",
   "metadata": {},
   "source": [
    "**Map and Filter**"
   ]
  },
  {
   "cell_type": "code",
   "execution_count": 51,
   "id": "163a4c48",
   "metadata": {},
   "outputs": [],
   "source": [
    "seq=[1,2,3,4,5]"
   ]
  },
  {
   "cell_type": "code",
   "execution_count": 58,
   "id": "f22feec8",
   "metadata": {},
   "outputs": [
    {
     "data": {
      "text/plain": [
       "<map at 0x2053e5119d0>"
      ]
     },
     "execution_count": 58,
     "metadata": {},
     "output_type": "execute_result"
    }
   ],
   "source": [
    "map(times2, seq)"
   ]
  },
  {
   "cell_type": "code",
   "execution_count": 77,
   "id": "8a06923e",
   "metadata": {},
   "outputs": [
    {
     "data": {
      "text/plain": [
       "[2, 4, 6, 8, 10]"
      ]
     },
     "execution_count": 77,
     "metadata": {},
     "output_type": "execute_result"
    }
   ],
   "source": [
    "list(map(times2,seq))"
   ]
  },
  {
   "cell_type": "markdown",
   "id": "d3bc54e2",
   "metadata": {},
   "source": [
    "**Lambda expressions**"
   ]
  },
  {
   "cell_type": "code",
   "execution_count": 60,
   "id": "6dcb48b3",
   "metadata": {},
   "outputs": [
    {
     "data": {
      "text/plain": [
       "<function __main__.<lambda>(var)>"
      ]
     },
     "execution_count": 60,
     "metadata": {},
     "output_type": "execute_result"
    }
   ],
   "source": [
    "lambda var:var*2   #lambda function"
   ]
  },
  {
   "cell_type": "code",
   "execution_count": 61,
   "id": "81a9e74b",
   "metadata": {},
   "outputs": [],
   "source": [
    "t=lambda var:var*2"
   ]
  },
  {
   "cell_type": "code",
   "execution_count": 62,
   "id": "1f831394",
   "metadata": {},
   "outputs": [
    {
     "data": {
      "text/plain": [
       "12"
      ]
     },
     "execution_count": 62,
     "metadata": {},
     "output_type": "execute_result"
    }
   ],
   "source": [
    "t(6)"
   ]
  },
  {
   "cell_type": "code",
   "execution_count": null,
   "id": "85badb1f",
   "metadata": {},
   "outputs": [],
   "source": []
  },
  {
   "cell_type": "code",
   "execution_count": 74,
   "id": "e6f27ded",
   "metadata": {},
   "outputs": [
    {
     "data": {
      "text/plain": [
       "[3, 6, 9, 12, 15]"
      ]
     },
     "execution_count": 74,
     "metadata": {},
     "output_type": "execute_result"
    }
   ],
   "source": [
    "list(map(lambda num:num*3,seq))"
   ]
  },
  {
   "cell_type": "code",
   "execution_count": 70,
   "id": "e40cfac0",
   "metadata": {},
   "outputs": [
    {
     "data": {
      "text/plain": [
       "[2, 4]"
      ]
     },
     "execution_count": 70,
     "metadata": {},
     "output_type": "execute_result"
    }
   ],
   "source": [
    "list(filter(lambda num:num%2==0,seq)) #filterfunction"
   ]
  },
  {
   "cell_type": "markdown",
   "id": "752a2a55",
   "metadata": {},
   "source": [
    "**Methods** "
   ]
  },
  {
   "cell_type": "code",
   "execution_count": 78,
   "id": "e8a9e298",
   "metadata": {},
   "outputs": [],
   "source": [
    "s='Hello my name is Itisha'"
   ]
  },
  {
   "cell_type": "code",
   "execution_count": 79,
   "id": "10062272",
   "metadata": {},
   "outputs": [
    {
     "data": {
      "text/plain": [
       "'hello my name is itisha'"
      ]
     },
     "execution_count": 79,
     "metadata": {},
     "output_type": "execute_result"
    }
   ],
   "source": [
    "s.lower()"
   ]
  },
  {
   "cell_type": "code",
   "execution_count": 80,
   "id": "696b7a2b",
   "metadata": {},
   "outputs": [
    {
     "data": {
      "text/plain": [
       "'HELLO MY NAME IS ITISHA'"
      ]
     },
     "execution_count": 80,
     "metadata": {},
     "output_type": "execute_result"
    }
   ],
   "source": [
    "s.upper()"
   ]
  },
  {
   "cell_type": "code",
   "execution_count": 81,
   "id": "7fdfa6ed",
   "metadata": {},
   "outputs": [
    {
     "data": {
      "text/plain": [
       "['Hello', 'my', 'name', 'is', 'Itisha']"
      ]
     },
     "execution_count": 81,
     "metadata": {},
     "output_type": "execute_result"
    }
   ],
   "source": [
    "s.split() #splits all the whitespace"
   ]
  },
  {
   "cell_type": "code",
   "execution_count": 97,
   "id": "5bddfc77",
   "metadata": {},
   "outputs": [],
   "source": [
    "tweet='Go Sports! #Sports'"
   ]
  },
  {
   "cell_type": "code",
   "execution_count": 98,
   "id": "3f7ffc98",
   "metadata": {},
   "outputs": [
    {
     "data": {
      "text/plain": [
       "['Go', 'Sports!', '#Sports']"
      ]
     },
     "execution_count": 98,
     "metadata": {},
     "output_type": "execute_result"
    }
   ],
   "source": [
    "tweet.split()"
   ]
  },
  {
   "cell_type": "code",
   "execution_count": 99,
   "id": "a1d894b9",
   "metadata": {},
   "outputs": [
    {
     "data": {
      "text/plain": [
       "['Go Sports! ', 'Sports']"
      ]
     },
     "execution_count": 99,
     "metadata": {},
     "output_type": "execute_result"
    }
   ],
   "source": [
    "tweet. split('#')"
   ]
  },
  {
   "cell_type": "code",
   "execution_count": 100,
   "id": "d0b6a422",
   "metadata": {},
   "outputs": [],
   "source": [
    "lst=[1,2,3]"
   ]
  },
  {
   "cell_type": "code",
   "execution_count": 101,
   "id": "91834b75",
   "metadata": {},
   "outputs": [
    {
     "data": {
      "text/plain": [
       "3"
      ]
     },
     "execution_count": 101,
     "metadata": {},
     "output_type": "execute_result"
    }
   ],
   "source": [
    "lst.pop()"
   ]
  },
  {
   "cell_type": "code",
   "execution_count": 102,
   "id": "551f8398",
   "metadata": {},
   "outputs": [],
   "source": [
    "lst=[1,2,3,4,5]"
   ]
  },
  {
   "cell_type": "code",
   "execution_count": 103,
   "id": "7e1c9201",
   "metadata": {},
   "outputs": [],
   "source": [
    "item= lst.pop()"
   ]
  },
  {
   "cell_type": "code",
   "execution_count": 104,
   "id": "5a8afc66",
   "metadata": {},
   "outputs": [
    {
     "data": {
      "text/plain": [
       "[1, 2, 3, 4]"
      ]
     },
     "execution_count": 104,
     "metadata": {},
     "output_type": "execute_result"
    }
   ],
   "source": [
    "lst"
   ]
  },
  {
   "cell_type": "code",
   "execution_count": 105,
   "id": "f025a01f",
   "metadata": {},
   "outputs": [
    {
     "data": {
      "text/plain": [
       "5"
      ]
     },
     "execution_count": 105,
     "metadata": {},
     "output_type": "execute_result"
    }
   ],
   "source": [
    "item"
   ]
  },
  {
   "cell_type": "code",
   "execution_count": 106,
   "id": "3f45ebb3",
   "metadata": {},
   "outputs": [],
   "source": [
    "first=lst.pop(0)"
   ]
  },
  {
   "cell_type": "code",
   "execution_count": 107,
   "id": "6e6ef15d",
   "metadata": {},
   "outputs": [
    {
     "data": {
      "text/plain": [
       "[2, 3, 4]"
      ]
     },
     "execution_count": 107,
     "metadata": {},
     "output_type": "execute_result"
    }
   ],
   "source": [
    "lst"
   ]
  },
  {
   "cell_type": "code",
   "execution_count": 108,
   "id": "87166779",
   "metadata": {},
   "outputs": [
    {
     "data": {
      "text/plain": [
       "1"
      ]
     },
     "execution_count": 108,
     "metadata": {},
     "output_type": "execute_result"
    }
   ],
   "source": [
    "first"
   ]
  },
  {
   "cell_type": "code",
   "execution_count": 109,
   "id": "92887c13",
   "metadata": {},
   "outputs": [],
   "source": [
    "lst.append('new')"
   ]
  },
  {
   "cell_type": "code",
   "execution_count": 110,
   "id": "3ad5cdad",
   "metadata": {},
   "outputs": [
    {
     "data": {
      "text/plain": [
       "[2, 3, 4, 'new']"
      ]
     },
     "execution_count": 110,
     "metadata": {},
     "output_type": "execute_result"
    }
   ],
   "source": [
    "lst"
   ]
  },
  {
   "cell_type": "code",
   "execution_count": 111,
   "id": "f0c2dda1",
   "metadata": {},
   "outputs": [
    {
     "data": {
      "text/plain": [
       "False"
      ]
     },
     "execution_count": 111,
     "metadata": {},
     "output_type": "execute_result"
    }
   ],
   "source": [
    "'x' in [1,2,3]"
   ]
  },
  {
   "cell_type": "code",
   "execution_count": 113,
   "id": "495e5e11",
   "metadata": {},
   "outputs": [
    {
     "data": {
      "text/plain": [
       "True"
      ]
     },
     "execution_count": 113,
     "metadata": {},
     "output_type": "execute_result"
    }
   ],
   "source": [
    "'x' in ['x','y','z']"
   ]
  },
  {
   "cell_type": "code",
   "execution_count": 118,
   "id": "f046170c",
   "metadata": {},
   "outputs": [
    {
     "data": {
      "text/plain": [
       "2"
      ]
     },
     "execution_count": 118,
     "metadata": {},
     "output_type": "execute_result"
    }
   ],
   "source": [
    "x=[(1,2),(3,4),(5,6)]\n",
    "x[0][1]\n"
   ]
  },
  {
   "cell_type": "code",
   "execution_count": 119,
   "id": "30c39f26",
   "metadata": {},
   "outputs": [
    {
     "name": "stdout",
     "output_type": "stream",
     "text": [
      "(1, 2)\n",
      "(3, 4)\n",
      "(5, 6)\n"
     ]
    }
   ],
   "source": [
    "for (item) in x:\n",
    "    print (item)\n",
    "    (1,2)\n",
    "    (3,4)\n",
    "    (5,6)"
   ]
  },
  {
   "cell_type": "code",
   "execution_count": 126,
   "id": "8041e325",
   "metadata": {},
   "outputs": [
    {
     "name": "stdout",
     "output_type": "stream",
     "text": [
      "1\n",
      "2\n",
      "3\n",
      "4\n",
      "5\n",
      "6\n"
     ]
    }
   ],
   "source": [
    "for (a,b) in x:\n",
    "    print (a)\n",
    "    print (b)"
   ]
  }
 ],
 "metadata": {
  "kernelspec": {
   "display_name": "Python 3",
   "language": "python",
   "name": "python3"
  },
  "language_info": {
   "codemirror_mode": {
    "name": "ipython",
    "version": 3
   },
   "file_extension": ".py",
   "mimetype": "text/x-python",
   "name": "python",
   "nbconvert_exporter": "python",
   "pygments_lexer": "ipython3",
   "version": "3.8.8"
  }
 },
 "nbformat": 4,
 "nbformat_minor": 5
}
